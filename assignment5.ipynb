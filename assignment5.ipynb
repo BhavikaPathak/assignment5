{
 "cells": [
  {
   "cell_type": "code",
   "execution_count": 15,
   "id": "3763ffe8-bf24-48d3-b649-5d4fdbb6d42e",
   "metadata": {},
   "outputs": [
    {
     "name": "stdout",
     "output_type": "stream",
     "text": [
      "Original list of tuples:\n",
      "[('Sachin Tendulkar', 34357), ('Ricky Ponting', 27483), ('Jack Kallis', 25534), ('Virat Kohli', 24936)]\n",
      "\n",
      "Sorting the List of Tuples:\n",
      "[('Virat Kohli', 24936), ('Jack Kallis', 25534), ('Ricky Ponting', 27483), ('Sachin Tendulkar', 34357)]\n"
     ]
    }
   ],
   "source": [
    "#                                    ANSWER 1 \n",
    "match_score = [('Sachin Tendulkar', 34357), ('Ricky Ponting', 27483), ('Jack Kallis', 25534), ('Virat Kohli', 24936)]\n",
    "print(\"Original list of tuples:\")\n",
    "print(match_score)\n",
    "match_score.sort(key = lambda x: x[1])\n",
    "print(\"\\nSorting the List of Tuples:\")\n",
    "print(match_score)"
   ]
  },
  {
   "cell_type": "code",
   "execution_count": 27,
   "id": "b1977ad8-5911-4110-8fa5-83d9a9e539a1",
   "metadata": {},
   "outputs": [
    {
     "name": "stdout",
     "output_type": "stream",
     "text": [
      " by using lambda function\n",
      "Original list :\n",
      "[1, 2, 3, 4, 5, 6, 7, 8, 9, 10]\n",
      "\n",
      "Square every number of the given list:\n",
      "[1, 4, 9, 16, 25, 36, 49, 64, 81, 100]\n",
      "\n",
      "by using map function\n",
      "Original List:  [1, 2, 3, 4, 5, 6, 7, 8, 9, 10]\n",
      "\n",
      "Square the elements of the given list:\n",
      "[1, 4, 9, 16, 25, 36, 49, 64, 81, 100]\n"
     ]
    }
   ],
   "source": [
    "#                                   ANSWER 2 \n",
    "print(\" by using lambda function\")\n",
    "list_number = [1, 2, 3, 4, 5, 6, 7, 8, 9, 10]\n",
    "print(\"Original list :\")\n",
    "print(list_number)\n",
    "print(\"\\nSquare every number of the given list:\")\n",
    "square_number = list(map(lambda x: x ** 2, list_number))\n",
    "print(square_number)\n",
    "print(\"\\nby using map function\")\n",
    "def square_num(n):\n",
    "    return n * n\n",
    "nums = [1, 2, 3, 4, 5, 6, 7, 8, 9, 10]\n",
    "print(\"Original List: \",nums)\n",
    "result = map(square_num, nums)\n",
    "print(\"\\nSquare the elements of the given list:\")\n",
    "print(list(result))"
   ]
  },
  {
   "cell_type": "code",
   "execution_count": 17,
   "id": "59f3f22b-7689-42b1-843d-78c09e0dbe9d",
   "metadata": {},
   "outputs": [
    {
     "name": "stdout",
     "output_type": "stream",
     "text": [
      "The product of the number is : 620448401733239439360000\n"
     ]
    }
   ],
   "source": [
    " #                                    ANSWER 4 \n",
    "import functools\n",
    "number = range(1,25)\n",
    "print(\"The product of the number is : \", end=\"\")\n",
    "print(functools.reduce(lambda a, b: a*b, number))\n",
    " \n"
   ]
  },
  {
   "cell_type": "code",
   "execution_count": 21,
   "id": "7ef7b5c1-bdca-46cd-992c-af40759eb64e",
   "metadata": {},
   "outputs": [
    {
     "name": "stdout",
     "output_type": "stream",
     "text": [
      "given list:\n",
      "[2, 3, 6, 9, 27, 60, 90, 120, 55, 46]\n",
      "\n",
      "THE NUMBER IS DIVISIBLE BY 2 IN GIVEN LIST ARE:\n",
      "[2, 6, 60, 90, 120, 46]\n",
      "\n",
      "THE NUMBER IS DIVISIBLE BY 3 IN GIVEN LIST ARE:\n",
      "[3, 6, 9, 27, 60, 90, 120]\n"
     ]
    }
   ],
   "source": [
    "#                                 ANSWER 5\n",
    "list_given = [2, 3, 6, 9, 27, 60, 90, 120, 55, 46]\n",
    "print(\"given list:\")\n",
    "print(list_given)\n",
    "print(\"\\nTHE NUMBER IS DIVISIBLE BY 2 IN GIVEN LIST ARE:\")\n",
    "divisible_2 = list(filter(lambda x: x%2 == 0, list_given))\n",
    "print(divisible_2)\n",
    "print(\"\\nTHE NUMBER IS DIVISIBLE BY 3 IN GIVEN LIST ARE:\")\n",
    "divisible_3= list(filter(lambda x: x%3 == 0, list_given))\n",
    "print(divisible_3)"
   ]
  },
  {
   "cell_type": "code",
   "execution_count": 23,
   "id": "5fbb923a-d819-49df-b2d7-dea5c056b7b5",
   "metadata": {},
   "outputs": [
    {
     "name": "stdout",
     "output_type": "stream",
     "text": [
      "Orginal list of strings:\n",
      "['python', 'php', 'aba', 'radar', 'level']\n",
      "\n",
      "List of palindromes:\n",
      "['php', 'aba', 'radar', 'level']\n"
     ]
    }
   ],
   "source": [
    "#                                 ANSWER 6\n",
    "given_string = ['python', 'php', 'aba', 'radar', 'level']\n",
    "print(\"Orginal list of strings:\")\n",
    "print(given_string) \n",
    "result = list(filter(lambda x: (x == \"\".join(reversed(x))), given_string)) \n",
    "print(\"\\nList of palindromes:\")\n",
    "print(result)"
   ]
  },
  {
   "cell_type": "code",
   "execution_count": 24,
   "id": "e211dfb1-c7d7-48ee-a35b-23152897d3af",
   "metadata": {},
   "outputs": [
    {
     "name": "stdout",
     "output_type": "stream",
     "text": [
      "BY USING MAP FUNCTION\n",
      "Original list :\n",
      "[1, 2, 3, 4, 5, 6, 7, 8, 9, 10]\n",
      "\n",
      "Tuple of strings:\n",
      "('1', '2', '3', '4', '5', '6', '7', '8', '9', '10')\n"
     ]
    }
   ],
   "source": [
    "#                     ANSWER 3 \n",
    "print(\"BY USING MAP FUNCTION\")\n",
    "nums_list = [1, 2, 3, 4, 5, 6, 7, 8, 9, 10]\n",
    "print(\"Original list :\")\n",
    "print(nums_list)\n",
    "result_tuple = tuple(map(str,nums_list))\n",
    "print(\"\\nTuple of strings:\")\n",
    "print(result_tuple)"
   ]
  },
  {
   "cell_type": "code",
   "execution_count": 26,
   "id": "3fe6c843-b29c-44c6-9d1a-16ca78e4c366",
   "metadata": {},
   "outputs": [
    {
     "name": "stdout",
     "output_type": "stream",
     "text": [
      "BY USING LAMBDA FUNCTION\n",
      "Original list :\n",
      "[1, 2, 3, 4, 5, 6, 7, 8, 9, 10]\n",
      "\n",
      "Tuple of strings:\n",
      "<function <lambda> at 0x7f4f49c62170>\n"
     ]
    }
   ],
   "source": [
    "#                            ANSWER 3 \n",
    "print(\"BY USING LAMBDA FUNCTION\")\n",
    "nums_list = [1, 2, 3, 4, 5, 6, 7, 8, 9, 10]\n",
    "print(\"Original list :\")\n",
    "print(nums_list)\n",
    "nums_list = lambda nums_list : tuple(str,nums_list) \n",
    "print(\"\\nTuple of strings:\")\n",
    "print(nums_list)\n"
   ]
  },
  {
   "cell_type": "code",
   "execution_count": null,
   "id": "047c8b3f-4b12-4e5c-b013-62f163e1186d",
   "metadata": {},
   "outputs": [],
   "source": []
  }
 ],
 "metadata": {
  "kernelspec": {
   "display_name": "Python 3 (ipykernel)",
   "language": "python",
   "name": "python3"
  },
  "language_info": {
   "codemirror_mode": {
    "name": "ipython",
    "version": 3
   },
   "file_extension": ".py",
   "mimetype": "text/x-python",
   "name": "python",
   "nbconvert_exporter": "python",
   "pygments_lexer": "ipython3",
   "version": "3.10.8"
  }
 },
 "nbformat": 4,
 "nbformat_minor": 5
}
